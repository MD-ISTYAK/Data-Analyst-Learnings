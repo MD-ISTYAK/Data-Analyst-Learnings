{
  "nbformat": 4,
  "nbformat_minor": 0,
  "metadata": {
    "colab": {
      "provenance": []
    },
    "kernelspec": {
      "name": "python3",
      "display_name": "Python 3"
    },
    "language_info": {
      "name": "python"
    }
  },
  "cells": [
    {
      "cell_type": "code",
      "execution_count": null,
      "metadata": {
        "id": "atTKwDpz0MKZ",
        "colab": {
          "base_uri": "https://localhost:8080/"
        },
        "outputId": "c5687297-1bc2-4a71-e57e-58206b039104"
      },
      "outputs": [
        {
          "output_type": "stream",
          "name": "stdout",
          "text": [
            "Enter the percentage you get: 99\n",
            "A Grade\n"
          ]
        }
      ],
      "source": [
        "a=int(input(\"Enter the percentage you get: \"))\n",
        "if(a>=90):\n",
        "  print(\"A Grade\")\n",
        "if(a>=70 and a<90):\n",
        "  print(\"B Grade\")\n",
        "if(a>=55 and a<70):\n",
        "  print(\"C Grade\")\n",
        "if(a>=40 and a<55):\n",
        "  print(\"D Grade\")\n",
        "if(a<40):\n",
        "  print(\"You Failed the Exam\")"
      ]
    },
    {
      "cell_type": "code",
      "source": [
        "Fruits=[\"Apple\",\"Banana\",\"Mango\",\"Graphs\"]\n",
        "for x in Fruits:\n",
        "  print(x)"
      ],
      "metadata": {
        "id": "svxN3fSTSFiA",
        "colab": {
          "base_uri": "https://localhost:8080/"
        },
        "outputId": "3fb33900-4070-4e24-a128-30b25fadfc10"
      },
      "execution_count": null,
      "outputs": [
        {
          "output_type": "stream",
          "name": "stdout",
          "text": [
            "Apple\n",
            "Banana\n",
            "Mango\n",
            "Graphs\n"
          ]
        }
      ]
    },
    {
      "cell_type": "code",
      "source": [
        "for x in \"ISTYAK\":\n",
        "  print(x)"
      ],
      "metadata": {
        "colab": {
          "base_uri": "https://localhost:8080/"
        },
        "id": "ebai05GoLdnP",
        "outputId": "033d5513-0eb2-42bb-c503-b8dbcdd21024"
      },
      "execution_count": null,
      "outputs": [
        {
          "output_type": "stream",
          "name": "stdout",
          "text": [
            "I\n",
            "S\n",
            "T\n",
            "Y\n",
            "A\n",
            "K\n"
          ]
        }
      ]
    },
    {
      "cell_type": "code",
      "source": [
        "for x in range(25):\n",
        "  print(x)"
      ],
      "metadata": {
        "colab": {
          "base_uri": "https://localhost:8080/"
        },
        "id": "nUa-v8YEMSVn",
        "outputId": "500f4adf-7685-49dc-d955-c4f2c0644058"
      },
      "execution_count": null,
      "outputs": [
        {
          "output_type": "stream",
          "name": "stdout",
          "text": [
            "0\n",
            "1\n",
            "2\n",
            "3\n",
            "4\n",
            "5\n",
            "6\n",
            "7\n",
            "8\n",
            "9\n",
            "10\n",
            "11\n",
            "12\n",
            "13\n",
            "14\n",
            "15\n",
            "16\n",
            "17\n",
            "18\n",
            "19\n",
            "20\n",
            "21\n",
            "22\n",
            "23\n",
            "24\n"
          ]
        }
      ]
    },
    {
      "cell_type": "code",
      "source": [
        "for x in range(15,25):\n",
        "  print(x)"
      ],
      "metadata": {
        "colab": {
          "base_uri": "https://localhost:8080/"
        },
        "id": "brbPobssMVoO",
        "outputId": "cc97a45a-4d4d-463d-a5bd-637d54ebe090"
      },
      "execution_count": null,
      "outputs": [
        {
          "output_type": "stream",
          "name": "stdout",
          "text": [
            "15\n",
            "16\n",
            "17\n",
            "18\n",
            "19\n",
            "20\n",
            "21\n",
            "22\n",
            "23\n",
            "24\n"
          ]
        }
      ]
    },
    {
      "cell_type": "code",
      "source": [
        "def tabel(a):\n",
        "  x=a\n",
        "  i=1\n",
        "  while(i<=10):\n",
        "    print( x ,\"x\", i ,\"=\",x*i)\n",
        "    i=i+1\n",
        "\n",
        "a=int(input(\"Enter the Number: \"))\n",
        "tabel(a)"
      ],
      "metadata": {
        "colab": {
          "base_uri": "https://localhost:8080/"
        },
        "id": "J0wfGSn-Mbfq",
        "outputId": "a650df8b-1575-4688-dc15-f61d8964a06f"
      },
      "execution_count": null,
      "outputs": [
        {
          "output_type": "stream",
          "name": "stdout",
          "text": [
            "Enter the Number: 5\n",
            "5 x 1 = 5\n",
            "5 x 2 = 10\n",
            "5 x 3 = 15\n",
            "5 x 4 = 20\n",
            "5 x 5 = 25\n",
            "5 x 6 = 30\n",
            "5 x 7 = 35\n",
            "5 x 8 = 40\n",
            "5 x 9 = 45\n",
            "5 x 10 = 50\n"
          ]
        }
      ]
    },
    {
      "cell_type": "code",
      "source": [
        "def fname(name):\n",
        "  print(name + \" king\")\n",
        "\n",
        "name=input(\"Enter Name : \")\n",
        "fname(name)"
      ],
      "metadata": {
        "colab": {
          "base_uri": "https://localhost:8080/"
        },
        "id": "WyT0SZwRRfm3",
        "outputId": "6501f81d-ff4c-4e10-81a3-e22a19f259d1"
      },
      "execution_count": null,
      "outputs": [
        {
          "output_type": "stream",
          "name": "stdout",
          "text": [
            "Enter Name : Istyak\n",
            "Istyak king\n"
          ]
        }
      ]
    },
    {
      "cell_type": "code",
      "source": [
        "a=\"Python is best for coding\"\n",
        "b=len(a)\n",
        "c=a.find(\"is\")\n",
        "print(a)\n",
        "print(b)\n",
        "print(c)"
      ],
      "metadata": {
        "id": "gi_nLjEbWgEv",
        "colab": {
          "base_uri": "https://localhost:8080/"
        },
        "outputId": "7d95dda6-363b-4915-9319-2429d0a059d3"
      },
      "execution_count": null,
      "outputs": [
        {
          "output_type": "stream",
          "name": "stdout",
          "text": [
            "Python is best for coding\n",
            "25\n",
            "7\n"
          ]
        }
      ]
    },
    {
      "cell_type": "code",
      "source": [
        "s=\"Hello i am the one and only best person here\"\n",
        "print(s[0:30:4])"
      ],
      "metadata": {
        "colab": {
          "base_uri": "https://localhost:8080/"
        },
        "id": "r2hEGEsWDzz9",
        "outputId": "3b53e805-b5cf-4d1c-d814-e0570b2098f7"
      },
      "execution_count": null,
      "outputs": [
        {
          "output_type": "stream",
          "name": "stdout",
          "text": [
            "Hoahnnnb\n"
          ]
        }
      ]
    },
    {
      "cell_type": "code",
      "source": [
        "print(s[::-1])"
      ],
      "metadata": {
        "colab": {
          "base_uri": "https://localhost:8080/"
        },
        "id": "ToehQASHF1vn",
        "outputId": "babbf979-85dc-4723-a014-a87d64486d02"
      },
      "execution_count": null,
      "outputs": [
        {
          "output_type": "stream",
          "name": "stdout",
          "text": [
            "?ereh nosrep tseb ylno dna eno eht ma i olleH\n"
          ]
        }
      ]
    },
    {
      "cell_type": "code",
      "source": [
        "print(s)"
      ],
      "metadata": {
        "colab": {
          "base_uri": "https://localhost:8080/"
        },
        "id": "fmeu22tnGuTm",
        "outputId": "b9b08eda-36fa-45d5-a719-8e60770d1d7d"
      },
      "execution_count": null,
      "outputs": [
        {
          "output_type": "stream",
          "name": "stdout",
          "text": [
            "Hello i am the one and only best person here?\n"
          ]
        }
      ]
    },
    {
      "cell_type": "code",
      "source": [
        "print(s.upper())"
      ],
      "metadata": {
        "colab": {
          "base_uri": "https://localhost:8080/"
        },
        "id": "y2YDXeI6HwnI",
        "outputId": "b9c6d738-78b8-45bc-94b4-81aa35b08c01"
      },
      "execution_count": null,
      "outputs": [
        {
          "output_type": "stream",
          "name": "stdout",
          "text": [
            "HELLO I AM THE ONE AND ONLY BEST PERSON HERE?\n"
          ]
        }
      ]
    },
    {
      "cell_type": "code",
      "source": [
        "aa=s.upper()"
      ],
      "metadata": {
        "id": "OZRnNClsHyn8"
      },
      "execution_count": null,
      "outputs": []
    },
    {
      "cell_type": "code",
      "source": [
        "print(aa)"
      ],
      "metadata": {
        "colab": {
          "base_uri": "https://localhost:8080/"
        },
        "id": "oVpMAwIdH2Ce",
        "outputId": "d9a99867-1094-402b-ff86-8151ef01e7ad"
      },
      "execution_count": null,
      "outputs": [
        {
          "output_type": "stream",
          "name": "stdout",
          "text": [
            "HELLO I AM THE ONE AND ONLY BEST PERSON HERE?\n"
          ]
        }
      ]
    },
    {
      "cell_type": "code",
      "source": [
        "print(aa.lower())"
      ],
      "metadata": {
        "colab": {
          "base_uri": "https://localhost:8080/"
        },
        "id": "ubM-bwWgH3Ly",
        "outputId": "47af9e0b-5a47-4539-f07e-c1b8f6a0ee94"
      },
      "execution_count": null,
      "outputs": [
        {
          "output_type": "stream",
          "name": "stdout",
          "text": [
            "hello i am the one and only best person here?\n"
          ]
        }
      ]
    },
    {
      "cell_type": "code",
      "source": [
        "print(s.replace(\"i am\",\"Istyak you are\"))"
      ],
      "metadata": {
        "colab": {
          "base_uri": "https://localhost:8080/"
        },
        "id": "8DkLnjKNH46h",
        "outputId": "89810e3a-0af6-4045-f06a-ea9f420db473"
      },
      "execution_count": null,
      "outputs": [
        {
          "output_type": "stream",
          "name": "stdout",
          "text": [
            "Hello Istyak you are the one and only best person here\n"
          ]
        }
      ]
    },
    {
      "cell_type": "code",
      "source": [
        "l=[1,1,2,2,3,3]\n",
        "a=0\n",
        "\n",
        "for i in range(len(l)):\n",
        "  a=a + l[i]\n",
        "print(a)"
      ],
      "metadata": {
        "colab": {
          "base_uri": "https://localhost:8080/"
        },
        "id": "spdoKXZaIFY-",
        "outputId": "31e5932a-f344-49af-8f96-289f8485b7d7"
      },
      "execution_count": null,
      "outputs": [
        {
          "output_type": "stream",
          "name": "stdout",
          "text": [
            "12\n"
          ]
        }
      ]
    },
    {
      "cell_type": "code",
      "source": [
        "l=[1,1,2,2,3,3]\n",
        "a=1\n",
        "\n",
        "for i in range(len(l)):\n",
        "  a=a * l[i]\n",
        "print(a)"
      ],
      "metadata": {
        "colab": {
          "base_uri": "https://localhost:8080/"
        },
        "id": "ZcLoWnlUTFv6",
        "outputId": "865091c8-85a7-4c87-a275-b0bf0a8685fe"
      },
      "execution_count": null,
      "outputs": [
        {
          "output_type": "stream",
          "name": "stdout",
          "text": [
            "36\n"
          ]
        }
      ]
    },
    {
      "cell_type": "code",
      "source": [
        "\n",
        "n=int(input(\"Enter the number of elements you want to add in tupel :\"))\n",
        "l=[0,0,0,0,0,0,0,0,0,0,01]\n",
        "for i in range(n):\n",
        "  l[i]=input(\"Enter the element :\")\n",
        "m=tuple(l)\n",
        "print(m)"
      ],
      "metadata": {
        "colab": {
          "base_uri": "https://localhost:8080/"
        },
        "id": "6yET0PDfU1Ec",
        "outputId": "928f6200-b145-4c7a-aa19-ca7d2a1ac580"
      },
      "execution_count": null,
      "outputs": [
        {
          "name": "stdout",
          "output_type": "stream",
          "text": [
            "Enter the number of elements you want to add in tupel :4\n",
            "Enter the element :1\n",
            "Enter the element :1\n",
            "Enter the element :2\n"
          ]
        }
      ]
    },
    {
      "cell_type": "code",
      "source": [
        "tup=(\"a\",\"b\",\"c\")\n",
        "for x in tup:\n",
        "  print(x)"
      ],
      "metadata": {
        "id": "TCmr05kqZADA",
        "colab": {
          "base_uri": "https://localhost:8080/"
        },
        "outputId": "42f4e300-f3be-4cb4-f370-65d523683aad"
      },
      "execution_count": null,
      "outputs": [
        {
          "output_type": "stream",
          "name": "stdout",
          "text": [
            "a\n",
            "b\n",
            "c\n"
          ]
        }
      ]
    },
    {
      "cell_type": "code",
      "source": [
        "li=[1,1,2,3,4,5,6]\n",
        "for x in li:\n",
        "  print(x)"
      ],
      "metadata": {
        "colab": {
          "base_uri": "https://localhost:8080/"
        },
        "id": "L97ytaIrq47R",
        "outputId": "255c17d0-323e-4f0d-ac48-171bb0c2f57a"
      },
      "execution_count": null,
      "outputs": [
        {
          "output_type": "stream",
          "name": "stdout",
          "text": [
            "1\n",
            "1\n",
            "2\n",
            "3\n",
            "4\n",
            "5\n",
            "6\n"
          ]
        }
      ]
    },
    {
      "cell_type": "code",
      "source": [
        "tup1=(1,2,3,4,4)\n",
        "tup2=(2,31,2,2,3,4,2)\n",
        "tup3=tup1+tup2\n",
        "print(tup3)"
      ],
      "metadata": {
        "colab": {
          "base_uri": "https://localhost:8080/"
        },
        "id": "CJZRgRobrHvQ",
        "outputId": "64862e95-ff61-4d8d-ad0e-3f34dd1a3999"
      },
      "execution_count": null,
      "outputs": [
        {
          "output_type": "stream",
          "name": "stdout",
          "text": [
            "(1, 2, 3, 4, 4, 2, 31, 2, 2, 3, 4, 2)\n"
          ]
        }
      ]
    },
    {
      "cell_type": "code",
      "source": [
        "t=()\n",
        "i=0\n",
        "n=int(input(\"Enter the Number of Elements You want in Tuple :\"))\n",
        "while(i<\n",
        "      n):\n",
        "  num=int(input(\"Enter the Element: \"))\n",
        "  t=t+(num,)\n",
        "  i=i+1\n",
        "\n",
        "print(t)"
      ],
      "metadata": {
        "colab": {
          "base_uri": "https://localhost:8080/"
        },
        "id": "qnS2U9NBrUO0",
        "outputId": "3b87f0e3-d797-4036-f64e-fc1d821ca01f"
      },
      "execution_count": null,
      "outputs": [
        {
          "output_type": "stream",
          "name": "stdout",
          "text": [
            "Enter the Number of Elements You want in Tuple :5\n",
            "Enter the Element: 1\n",
            "Enter the Element: 2\n",
            "Enter the Element: 3\n",
            "Enter the Element: 4\n",
            "Enter the Element: 6\n",
            "(1, 2, 3, 4, 6)\n"
          ]
        }
      ]
    },
    {
      "cell_type": "code",
      "source": [
        "dic={'id':'123','name':'istyak','gender':'male','age':21}\n",
        "print(dic)"
      ],
      "metadata": {
        "colab": {
          "base_uri": "https://localhost:8080/"
        },
        "id": "PiPPLVd1umUC",
        "outputId": "aaf44bb6-bdda-4ba8-f347-5f579fbdbdae"
      },
      "execution_count": null,
      "outputs": [
        {
          "output_type": "stream",
          "name": "stdout",
          "text": [
            "{'id': '123', 'name': 'istyak', 'gender': 'male', 'age': 21}\n"
          ]
        }
      ]
    },
    {
      "cell_type": "code",
      "source": [
        "print(dic['name'])"
      ],
      "metadata": {
        "colab": {
          "base_uri": "https://localhost:8080/"
        },
        "id": "-JcwnUwNwXvS",
        "outputId": "e62ad609-5bcd-4713-b5a7-4a320d80d384"
      },
      "execution_count": null,
      "outputs": [
        {
          "output_type": "stream",
          "name": "stdout",
          "text": [
            "istyak\n"
          ]
        }
      ]
    },
    {
      "cell_type": "code",
      "source": [
        "x=dic.keys()\n",
        "print(x)"
      ],
      "metadata": {
        "colab": {
          "base_uri": "https://localhost:8080/"
        },
        "id": "_9wS3aqKwcH_",
        "outputId": "a77cf6d6-cace-4218-baaf-d44437986b92"
      },
      "execution_count": null,
      "outputs": [
        {
          "output_type": "stream",
          "name": "stdout",
          "text": [
            "dict_keys(['id', 'name', 'gender', 'age'])\n"
          ]
        }
      ]
    },
    {
      "cell_type": "code",
      "source": [
        "print(dic.get(\"name\"))"
      ],
      "metadata": {
        "colab": {
          "base_uri": "https://localhost:8080/"
        },
        "id": "ctHbCg0Kyh9Y",
        "outputId": "e4bf912f-77ff-4550-cde3-fe62407ab341"
      },
      "execution_count": null,
      "outputs": [
        {
          "output_type": "stream",
          "name": "stdout",
          "text": [
            "istyak\n"
          ]
        }
      ]
    },
    {
      "cell_type": "code",
      "source": [
        "print(dic.values())"
      ],
      "metadata": {
        "colab": {
          "base_uri": "https://localhost:8080/"
        },
        "id": "JeAXkAQeyp9c",
        "outputId": "367a3308-7280-4641-b907-4bd59b5e3f2a"
      },
      "execution_count": null,
      "outputs": [
        {
          "output_type": "stream",
          "name": "stdout",
          "text": [
            "dict_values(['123', 'istyak', 'male', 21])\n"
          ]
        }
      ]
    },
    {
      "cell_type": "code",
      "source": [
        "dic.update({\"Email id\":\"istyak@gmail.com\"})"
      ],
      "metadata": {
        "id": "4tCyCbCzy5Z_"
      },
      "execution_count": null,
      "outputs": []
    },
    {
      "cell_type": "code",
      "source": [
        "print(dic)"
      ],
      "metadata": {
        "colab": {
          "base_uri": "https://localhost:8080/"
        },
        "id": "Sh3zX4MuzdfM",
        "outputId": "cfdf0d9a-5b9a-49b0-ef19-9cdff9a10b6d"
      },
      "execution_count": null,
      "outputs": [
        {
          "output_type": "stream",
          "name": "stdout",
          "text": [
            "{'id': '123', 'name': 'istyak', 'gender': 'male', 'age': 21, 'Email id': 'istyak@gmail.com'}\n"
          ]
        }
      ]
    },
    {
      "cell_type": "code",
      "source": [
        "dic.pop(\"age\")"
      ],
      "metadata": {
        "colab": {
          "base_uri": "https://localhost:8080/"
        },
        "id": "Q6OFoU2VzekS",
        "outputId": "c9db087a-ce93-46bf-eaf5-c830b2ea54ce"
      },
      "execution_count": null,
      "outputs": [
        {
          "output_type": "execute_result",
          "data": {
            "text/plain": [
              "21"
            ]
          },
          "metadata": {},
          "execution_count": 26
        }
      ]
    },
    {
      "cell_type": "code",
      "source": [
        "print(dic)"
      ],
      "metadata": {
        "colab": {
          "base_uri": "https://localhost:8080/"
        },
        "id": "4AITxWqW0DB-",
        "outputId": "028370a6-7388-43ff-b127-877307c96e6d"
      },
      "execution_count": null,
      "outputs": [
        {
          "output_type": "stream",
          "name": "stdout",
          "text": [
            "{'id': '123', 'name': 'istyak', 'gender': 'male', 'Email id': 'istyak@gmail.com'}\n"
          ]
        }
      ]
    },
    {
      "cell_type": "code",
      "source": [
        "dic={'id':'123','name':'istyak','gender':'male','age':21}\n",
        "dic.update({\"Email id\":\"istyak@gmail.com\"})\n",
        "print(dic)"
      ],
      "metadata": {
        "colab": {
          "base_uri": "https://localhost:8080/"
        },
        "id": "xHfs3byG0FN0",
        "outputId": "2b5e1840-e25a-4bd7-db77-8f04799dfe62"
      },
      "execution_count": null,
      "outputs": [
        {
          "output_type": "stream",
          "name": "stdout",
          "text": [
            "{'id': '123', 'name': 'istyak', 'gender': 'male', 'age': 21, 'Email id': 'istyak@gmail.com'}\n"
          ]
        }
      ]
    },
    {
      "cell_type": "code",
      "source": [
        "\n",
        "print(dic)"
      ],
      "metadata": {
        "colab": {
          "base_uri": "https://localhost:8080/"
        },
        "id": "Ujlu2eoa0Okx",
        "outputId": "d5a45f7a-f25b-4268-c8a8-c0d5186bb52f"
      },
      "execution_count": null,
      "outputs": [
        {
          "output_type": "stream",
          "name": "stdout",
          "text": [
            "{'id': '123', 'name': 'istyak', 'gender': 'male', 'Email id': 'istyak@gmail.com'}\n"
          ]
        }
      ]
    },
    {
      "cell_type": "code",
      "source": [
        "del dic"
      ],
      "metadata": {
        "id": "jEJzYlBI0RWW"
      },
      "execution_count": null,
      "outputs": []
    },
    {
      "cell_type": "code",
      "source": [
        "dic={'id':'123','name':'istyak','gender':'male','age':21}\n",
        "dic.update({\"Email id\":\"istyak@gmail.com\"})\n",
        "print(dic)"
      ],
      "metadata": {
        "colab": {
          "base_uri": "https://localhost:8080/"
        },
        "id": "d3fCP6Ms0gtv",
        "outputId": "df6815e5-a5ac-49ae-abc7-9d2acf0f0343"
      },
      "execution_count": null,
      "outputs": [
        {
          "output_type": "stream",
          "name": "stdout",
          "text": [
            "{'id': '123', 'name': 'istyak', 'gender': 'male', 'age': 21, 'Email id': 'istyak@gmail.com'}\n"
          ]
        }
      ]
    },
    {
      "cell_type": "code",
      "source": [
        "dic1={1:10,2:20}\n",
        "dic2={3:30,4:40}\n",
        "dic3={5:50,6:60}\n",
        "dic4={}\n",
        "for d in (dic1,dic2,dic3):dic4.update(d)\n",
        "print(dic4)"
      ],
      "metadata": {
        "colab": {
          "base_uri": "https://localhost:8080/"
        },
        "id": "bxu8y1ft0iWW",
        "outputId": "4d5e7fdb-233e-4904-99f0-036e8b98cf18"
      },
      "execution_count": null,
      "outputs": [
        {
          "output_type": "stream",
          "name": "stdout",
          "text": [
            "{1: 10, 2: 20, 3: 30, 4: 40, 5: 50, 6: 60}\n"
          ]
        }
      ]
    },
    {
      "cell_type": "code",
      "source": [
        "di={}\n",
        "n=int(input(\"Enter the number of Key Value pairs you want in Dictionary :\"))\n",
        "i=0\n",
        "while(i<n):\n",
        "  k=int(input(\"Enter the key :\"))\n",
        "  di.update({k:k**2})\n",
        "  i=i+1\n",
        "\n",
        "print(di)\n"
      ],
      "metadata": {
        "colab": {
          "base_uri": "https://localhost:8080/"
        },
        "id": "Y1t6Uoxq4_Ta",
        "outputId": "71b36107-9bc4-49d1-e8a4-6c7a44f1e9c9"
      },
      "execution_count": null,
      "outputs": [
        {
          "output_type": "stream",
          "name": "stdout",
          "text": [
            "Enter the number of Key Value pairs you want in Dictionary :5\n",
            "Enter the key :1\n",
            "Enter the key :2\n",
            "Enter the key :3\n",
            "Enter the key :4\n",
            "Enter the key :5\n",
            "{1: 1, 2: 4, 3: 9, 4: 16, 5: 25}\n"
          ]
        }
      ]
    },
    {
      "cell_type": "code",
      "source": [
        "dic={'id':'123','name':'istyak','gender':'male','age':21}\n",
        "dic.update({\"Email id\":\"istyak@gmail.com\"})\n",
        "k=input(\"Enter the key :\")\n",
        "if(k in dic):\n",
        "    print(\"Key Already Exist\")\n",
        "    exit\n",
        "else:\n",
        "  v=input(\"Enter the value for key :\")\n",
        "  dic.update({k:v})\n",
        "\n",
        "print(dic)"
      ],
      "metadata": {
        "colab": {
          "base_uri": "https://localhost:8080/"
        },
        "id": "b9A_Ds587J7_",
        "outputId": "7f838adb-e226-4f9e-a39a-09f356969091"
      },
      "execution_count": null,
      "outputs": [
        {
          "output_type": "stream",
          "name": "stdout",
          "text": [
            "Enter the key :name\n",
            "Key Already Exist\n",
            "{'id': '123', 'name': 'istyak', 'gender': 'male', 'age': 21, 'Email id': 'istyak@gmail.com'}\n"
          ]
        }
      ]
    },
    {
      "cell_type": "code",
      "source": [
        "dic"
      ],
      "metadata": {
        "colab": {
          "base_uri": "https://localhost:8080/"
        },
        "id": "J3mT9GGm-_76",
        "outputId": "6d4fa37c-4d02-4843-f31e-b358aab891d7"
      },
      "execution_count": null,
      "outputs": [
        {
          "output_type": "execute_result",
          "data": {
            "text/plain": [
              "{'id': '123',\n",
              " 'name': 'istyak',\n",
              " 'gender': 'male',\n",
              " 'age': 21,\n",
              " 'Email id': 'istyak@gmail.com',\n",
              " 'beard': 'yes'}"
            ]
          },
          "metadata": {},
          "execution_count": 76
        }
      ]
    },
    {
      "cell_type": "code",
      "source": [
        "ss={\"apple\",\"banana\",\"orange\"}\n",
        "print(s)"
      ],
      "metadata": {
        "colab": {
          "base_uri": "https://localhost:8080/"
        },
        "id": "8iX-q2b3AKKu",
        "outputId": "a999bac1-a775-48b3-cbbb-3c495b829ddb"
      },
      "execution_count": null,
      "outputs": [
        {
          "output_type": "stream",
          "name": "stdout",
          "text": [
            "{'4', '2', '5', '3', '1'}\n"
          ]
        }
      ]
    },
    {
      "cell_type": "code",
      "source": [
        "st={\"1\",\"2\",\"3\",\"4\",\"5\"}\n",
        "for x in s:\n",
        "  print(x)"
      ],
      "metadata": {
        "colab": {
          "base_uri": "https://localhost:8080/"
        },
        "id": "HNcxKUDQD4yy",
        "outputId": "15bd73a8-51b1-4aa2-cb40-5136fdcea468"
      },
      "execution_count": null,
      "outputs": [
        {
          "output_type": "stream",
          "name": "stdout",
          "text": [
            "4\n",
            "2\n",
            "5\n",
            "3\n",
            "1\n"
          ]
        }
      ]
    },
    {
      "cell_type": "code",
      "source": [
        "print(\"5\" in st)"
      ],
      "metadata": {
        "colab": {
          "base_uri": "https://localhost:8080/",
          "height": 175
        },
        "id": "s9XufkfEECL-",
        "outputId": "f5df4b2a-810d-4f59-9e99-79f284bbb373"
      },
      "execution_count": null,
      "outputs": [
        {
          "output_type": "error",
          "ename": "NameError",
          "evalue": "ignored",
          "traceback": [
            "\u001b[0;31m---------------------------------------------------------------------------\u001b[0m",
            "\u001b[0;31mNameError\u001b[0m                                 Traceback (most recent call last)",
            "\u001b[0;32m<ipython-input-84-bf4b38b11f56>\u001b[0m in \u001b[0;36m<cell line: 1>\u001b[0;34m()\u001b[0m\n\u001b[0;32m----> 1\u001b[0;31m \u001b[0mprint\u001b[0m\u001b[0;34m(\u001b[0m\u001b[0;34m\"5\"\u001b[0m \u001b[0;32min\u001b[0m \u001b[0mst\u001b[0m\u001b[0;34m)\u001b[0m\u001b[0;34m\u001b[0m\u001b[0;34m\u001b[0m\u001b[0m\n\u001b[0m",
            "\u001b[0;31mNameError\u001b[0m: name 'st' is not defined"
          ]
        }
      ]
    },
    {
      "cell_type": "code",
      "source": [
        "st.add(66)\n",
        "print(st)"
      ],
      "metadata": {
        "colab": {
          "base_uri": "https://localhost:8080/"
        },
        "id": "-JCtrEkDEQb-",
        "outputId": "2b78db43-a809-4810-ba10-423c0677341a"
      },
      "execution_count": null,
      "outputs": [
        {
          "output_type": "stream",
          "name": "stdout",
          "text": [
            "{'4', '2', 66, '5', '3', '1'}\n"
          ]
        }
      ]
    },
    {
      "cell_type": "code",
      "source": [
        "st.update(ss)"
      ],
      "metadata": {
        "id": "6qamz1rfE6CA"
      },
      "execution_count": null,
      "outputs": []
    },
    {
      "cell_type": "code",
      "source": [
        "print(st)"
      ],
      "metadata": {
        "colab": {
          "base_uri": "https://localhost:8080/"
        },
        "id": "aUCFMudUE-bC",
        "outputId": "c4ca65dc-0b4f-4c45-9cf7-910b631c4939"
      },
      "execution_count": null,
      "outputs": [
        {
          "output_type": "stream",
          "name": "stdout",
          "text": [
            "{'4', 66, '5', '3', 'banana', '1', '2', 'apple', 'orange'}\n"
          ]
        }
      ]
    },
    {
      "cell_type": "code",
      "source": [
        "e={1,2,3,4,5}\n",
        "f={4,5,6,7,8,9}\n",
        "ff=e.union(f)\n",
        "print(ff)"
      ],
      "metadata": {
        "colab": {
          "base_uri": "https://localhost:8080/"
        },
        "id": "KVnIhwEBFDXA",
        "outputId": "19a1850e-45db-479a-af19-b8909966449c"
      },
      "execution_count": null,
      "outputs": [
        {
          "output_type": "stream",
          "name": "stdout",
          "text": [
            "{1, 2, 3, 4, 5, 6, 7, 8, 9}\n"
          ]
        }
      ]
    },
    {
      "cell_type": "code",
      "source": [
        "print(e.intersection(f))"
      ],
      "metadata": {
        "colab": {
          "base_uri": "https://localhost:8080/"
        },
        "id": "c4uiO9ijFj4X",
        "outputId": "c2c8cf9d-406b-4b83-9782-ae5b370e7769"
      },
      "execution_count": null,
      "outputs": [
        {
          "output_type": "stream",
          "name": "stdout",
          "text": [
            "{4, 5}\n"
          ]
        }
      ]
    },
    {
      "cell_type": "code",
      "source": [
        "print(\"Maximum value of ff set is : \", max(ff))\n",
        "print(\"Minimum value of ff set is : \", min(ff))"
      ],
      "metadata": {
        "colab": {
          "base_uri": "https://localhost:8080/"
        },
        "id": "VxfTJtxDFqkh",
        "outputId": "3adcd791-e8ed-472b-8b1e-99e9d4963110"
      },
      "execution_count": null,
      "outputs": [
        {
          "output_type": "stream",
          "name": "stdout",
          "text": [
            "Maximum value of ff set is :  9\n",
            "Minimum value of ff set is :  1\n"
          ]
        }
      ]
    },
    {
      "cell_type": "code",
      "source": [
        "mm=set((2,3,4,\"name\"))\n",
        "print(mm)"
      ],
      "metadata": {
        "colab": {
          "base_uri": "https://localhost:8080/"
        },
        "id": "lip9zMh0GJ1H",
        "outputId": "13d20c7a-fd94-4144-ab21-23e78bb859b5"
      },
      "execution_count": null,
      "outputs": [
        {
          "output_type": "stream",
          "name": "stdout",
          "text": [
            "{2, 3, 4, 'name'}\n"
          ]
        }
      ]
    },
    {
      "cell_type": "code",
      "source": [],
      "metadata": {
        "id": "iETYO4iFGfL9"
      },
      "execution_count": null,
      "outputs": []
    }
  ]
}