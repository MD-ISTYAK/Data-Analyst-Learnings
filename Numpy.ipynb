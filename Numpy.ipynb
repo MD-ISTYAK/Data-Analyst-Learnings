{
  "nbformat": 4,
  "nbformat_minor": 0,
  "metadata": {
    "colab": {
      "provenance": []
    },
    "kernelspec": {
      "name": "python3",
      "display_name": "Python 3"
    },
    "language_info": {
      "name": "python"
    }
  },
  "cells": [
    {
      "cell_type": "code",
      "execution_count": null,
      "metadata": {
        "colab": {
          "base_uri": "https://localhost:8080/"
        },
        "id": "GcVFDsyBTdhf",
        "outputId": "9945ba66-217f-4b23-d560-297f0b08e80c"
      },
      "outputs": [
        {
          "output_type": "stream",
          "name": "stdout",
          "text": [
            "[1 2 3 4 5]\n",
            "1\n"
          ]
        }
      ],
      "source": [
        "import numpy as np\n",
        "arr=np.array([1,2,3,4,5])\n",
        "print(arr)\n",
        "print(arr.ndim)"
      ]
    },
    {
      "cell_type": "code",
      "source": [
        "arr1=np.array([[1,2,3,4,5,6],[11,22,33,44,55,66]])\n",
        "print(arr1)\n",
        "print(arr1.ndim)"
      ],
      "metadata": {
        "colab": {
          "base_uri": "https://localhost:8080/"
        },
        "id": "kPvhrVX-XS4x",
        "outputId": "e590ba2d-6fc0-4b1f-84d8-6409b8eadb5a"
      },
      "execution_count": null,
      "outputs": [
        {
          "output_type": "stream",
          "name": "stdout",
          "text": [
            "[[ 1  2  3  4  5  6]\n",
            " [11 22 33 44 55 66]]\n",
            "2\n"
          ]
        }
      ]
    },
    {
      "cell_type": "code",
      "source": [
        "arr2=np.array([[[1,2,3],[4,5,6]],[[5,6,7],[33,44,55]]],)\n",
        "print(arr2)\n",
        "print(arr2.ndim)\n",
        "arr2.shape\n",
        "type(arr2)"
      ],
      "metadata": {
        "colab": {
          "base_uri": "https://localhost:8080/"
        },
        "id": "QrRwKeCgXk8m",
        "outputId": "3f80a000-f695-4016-9d1d-754a59cc5d74"
      },
      "execution_count": null,
      "outputs": [
        {
          "output_type": "stream",
          "name": "stdout",
          "text": [
            "[[[ 1  2  3]\n",
            "  [ 4  5  6]]\n",
            "\n",
            " [[ 5  6  7]\n",
            "  [33 44 55]]]\n",
            "3\n"
          ]
        },
        {
          "output_type": "execute_result",
          "data": {
            "text/plain": [
              "numpy.ndarray"
            ]
          },
          "metadata": {},
          "execution_count": 12
        }
      ]
    },
    {
      "cell_type": "code",
      "source": [
        "print(arr1[1,2])"
      ],
      "metadata": {
        "colab": {
          "base_uri": "https://localhost:8080/"
        },
        "id": "xP-L5clAX-6J",
        "outputId": "9566ec4b-033e-4861-92e7-7fe47af091cd"
      },
      "execution_count": null,
      "outputs": [
        {
          "output_type": "stream",
          "name": "stdout",
          "text": [
            "33\n"
          ]
        }
      ]
    },
    {
      "cell_type": "code",
      "source": [
        "#slicing numpy 1d array\n",
        "arr5=np.array([1,2,3,4,5,6,7,8,4,3])\n",
        "print(arr5[2:9])\n"
      ],
      "metadata": {
        "colab": {
          "base_uri": "https://localhost:8080/"
        },
        "id": "aKzjdZmUYeAl",
        "outputId": "cd7a80fc-bb8e-43c3-b032-039145dfcd11"
      },
      "execution_count": null,
      "outputs": [
        {
          "output_type": "stream",
          "name": "stdout",
          "text": [
            "[3 4 5 6 7 8 4]\n"
          ]
        }
      ]
    },
    {
      "cell_type": "code",
      "source": [
        "print(arr5[::2])"
      ],
      "metadata": {
        "colab": {
          "base_uri": "https://localhost:8080/"
        },
        "id": "nDH7BOpjZEiU",
        "outputId": "4dc76e3a-d122-41ae-b4d9-8a0b39368cf1"
      },
      "execution_count": null,
      "outputs": [
        {
          "output_type": "stream",
          "name": "stdout",
          "text": [
            "[1 3 5 7 4]\n"
          ]
        }
      ]
    },
    {
      "cell_type": "code",
      "source": [
        "#slicing in 2d array\n",
        "arr1=np.array([[1,2,3,4,5,6],[11,22,33,44,55,66]])\n",
        "print(arr1[0,0:4])\n"
      ],
      "metadata": {
        "colab": {
          "base_uri": "https://localhost:8080/"
        },
        "id": "R1IZ1BC4ZRMz",
        "outputId": "c63b132c-d19e-4bd6-edba-e501e7f4f0e6"
      },
      "execution_count": null,
      "outputs": [
        {
          "output_type": "stream",
          "name": "stdout",
          "text": [
            "[1 2 3 4]\n"
          ]
        }
      ]
    },
    {
      "cell_type": "code",
      "source": [
        "arr6=np.array([1,2,3,4])\n",
        "print(arr6)\n",
        "print(arr6.dtype)"
      ],
      "metadata": {
        "colab": {
          "base_uri": "https://localhost:8080/"
        },
        "id": "ajiw3t5RZ7dy",
        "outputId": "c4a37d7f-93a9-4d70-9f4e-67e1f963e29b"
      },
      "execution_count": null,
      "outputs": [
        {
          "output_type": "stream",
          "name": "stdout",
          "text": [
            "[1 2 3 4]\n",
            "int64\n"
          ]
        }
      ]
    },
    {
      "cell_type": "code",
      "source": [
        "#interger=i\n",
        "arr6=np.array([1,2,3,4],dtype='i')\n",
        "print(arr6)\n",
        "print(arr6.dtype)"
      ],
      "metadata": {
        "colab": {
          "base_uri": "https://localhost:8080/"
        },
        "id": "6UE-_s74cDWI",
        "outputId": "758ab3e3-3647-494c-cb33-8e380627322f"
      },
      "execution_count": null,
      "outputs": [
        {
          "output_type": "stream",
          "name": "stdout",
          "text": [
            "[1 2 3 4]\n",
            "int32\n"
          ]
        }
      ]
    },
    {
      "cell_type": "code",
      "source": [
        "#string=S\n",
        "arr6=np.array([1,2,3,4], dtype='S')\n",
        "print(arr6)\n",
        "print(arr6.dtype)"
      ],
      "metadata": {
        "colab": {
          "base_uri": "https://localhost:8080/"
        },
        "id": "DYTl-fhdcZ2P",
        "outputId": "c0897308-9eb6-451f-b5ef-311812f52224"
      },
      "execution_count": null,
      "outputs": [
        {
          "output_type": "stream",
          "name": "stdout",
          "text": [
            "[b'1' b'2' b'3' b'4']\n",
            "|S1\n"
          ]
        }
      ]
    },
    {
      "cell_type": "code",
      "source": [
        "#unsigned string =U\n",
        "arr6=np.array([1,2,3,4],dtype='U')\n",
        "print(arr6)\n",
        "print(arr6.dtype)"
      ],
      "metadata": {
        "colab": {
          "base_uri": "https://localhost:8080/"
        },
        "id": "hvcjU4odccQ1",
        "outputId": "b88e6926-8777-428c-cfb3-461b91697501"
      },
      "execution_count": null,
      "outputs": [
        {
          "output_type": "stream",
          "name": "stdout",
          "text": [
            "['1' '2' '3' '4']\n",
            "<U1\n"
          ]
        }
      ]
    },
    {
      "cell_type": "code",
      "source": [
        "#float = f\n",
        "arr6=np.array([1,2,3,4],dtype='f')\n",
        "print(arr6)\n",
        "print(arr6.dtype)"
      ],
      "metadata": {
        "colab": {
          "base_uri": "https://localhost:8080/"
        },
        "id": "OS4smGsScg__",
        "outputId": "ec499371-10bc-476f-fbb4-801683f9d6b8"
      },
      "execution_count": null,
      "outputs": [
        {
          "output_type": "stream",
          "name": "stdout",
          "text": [
            "[1. 2. 3. 4.]\n",
            "float32\n"
          ]
        }
      ]
    },
    {
      "cell_type": "code",
      "source": [
        "#m= timedelta\n",
        "arr6=np.array([1,2,3,4], dtype='m')\n",
        "print(arr6)\n",
        "print(arr6.dtype)"
      ],
      "metadata": {
        "colab": {
          "base_uri": "https://localhost:8080/"
        },
        "id": "AJmcoto2cugJ",
        "outputId": "baf13a46-76e3-40b6-8e26-af1c4e8ee48c"
      },
      "execution_count": null,
      "outputs": [
        {
          "output_type": "stream",
          "name": "stdout",
          "text": [
            "[1 2 3 4]\n",
            "timedelta64\n"
          ]
        }
      ]
    },
    {
      "cell_type": "code",
      "source": [
        "#creating 4byte array using i4\n",
        "arr6=np.array([1,2,3,4], dtype='i4')\n",
        "print(arr6)\n",
        "print(arr6.dtype)"
      ],
      "metadata": {
        "colab": {
          "base_uri": "https://localhost:8080/"
        },
        "id": "5PJh-yMic2Mm",
        "outputId": "7b2b79f6-3ca5-40fa-b901-de38d7722375"
      },
      "execution_count": null,
      "outputs": [
        {
          "output_type": "stream",
          "name": "stdout",
          "text": [
            "[1 2 3 4]\n",
            "int32\n"
          ]
        }
      ]
    },
    {
      "cell_type": "code",
      "source": [
        "#joining two numpy array using concatenate\n",
        "ar1=np.array([1,2,3,0,4,5])\n",
        "ar2=np.array([11,11,22,33,44,55])\n",
        "ar=np.concatenate((ar1,ar2))\n",
        "print(ar)"
      ],
      "metadata": {
        "colab": {
          "base_uri": "https://localhost:8080/"
        },
        "id": "WodC3XSvdF0c",
        "outputId": "00892db3-b976-4e97-dd6b-59b9bd757d0f"
      },
      "execution_count": null,
      "outputs": [
        {
          "output_type": "stream",
          "name": "stdout",
          "text": [
            "[ 1  2  3  0  4  5 11 11 22 33 44 55]\n"
          ]
        }
      ]
    },
    {
      "cell_type": "code",
      "source": [
        "#along axis 0 (along row)\n",
        "ar3=np.array([[1,2],[3,4]])\n",
        "ar4=np.array([[5,6],[7,8]])\n",
        "ar6=np.concatenate((ar3,ar4),axis=0)\n",
        "print(ar6)"
      ],
      "metadata": {
        "colab": {
          "base_uri": "https://localhost:8080/"
        },
        "id": "LDGatPnpd6tT",
        "outputId": "76492e18-9b5e-44b2-cb94-27200804e5e8"
      },
      "execution_count": null,
      "outputs": [
        {
          "output_type": "stream",
          "name": "stdout",
          "text": [
            "[[1 2]\n",
            " [3 4]\n",
            " [5 6]\n",
            " [7 8]]\n"
          ]
        }
      ]
    },
    {
      "cell_type": "code",
      "source": [
        "#along axis 1 (along column)\n",
        "ar3=np.array([[1,2],[3,4]])\n",
        "ar4=np.array([[5,6],[7,8]])\n",
        "ar5=np.concatenate((ar3,ar4),axis=1)\n",
        "print(ar5)"
      ],
      "metadata": {
        "colab": {
          "base_uri": "https://localhost:8080/"
        },
        "id": "hvna9qZgfkJS",
        "outputId": "3127cec3-19b4-411c-bc57-8881fe5f4b0d"
      },
      "execution_count": null,
      "outputs": [
        {
          "output_type": "stream",
          "name": "stdout",
          "text": [
            "[[1 2 5 6]\n",
            " [3 4 7 8]]\n"
          ]
        }
      ]
    },
    {
      "cell_type": "code",
      "source": [
        "#splitting numpy array\n",
        "arp=np.array([1,2,3,4,5,6,7,8,9,10])\n",
        "new_arp=np.array_split(arp,3)\n",
        "print(new_arp)"
      ],
      "metadata": {
        "colab": {
          "base_uri": "https://localhost:8080/"
        },
        "id": "M4XGNqobgLLC",
        "outputId": "3ac11c57-2d43-4d70-cb71-cf11fcaab785"
      },
      "execution_count": null,
      "outputs": [
        {
          "output_type": "stream",
          "name": "stdout",
          "text": [
            "[array([1, 2, 3, 4]), array([5, 6, 7]), array([ 8,  9, 10])]\n"
          ]
        }
      ]
    },
    {
      "cell_type": "code",
      "source": [
        "#ravel and flatten function help to converty any dimension array into one dimension array\n",
        "ap=np.array([[[[[1,2,3,],[11,22,33],[111,222,333]]]]])\n",
        "print(ap)\n",
        "print(ap.ndim)"
      ],
      "metadata": {
        "colab": {
          "base_uri": "https://localhost:8080/"
        },
        "id": "Uso2LJiuhJat",
        "outputId": "e2e09115-5512-4b18-e399-7c63167a49e3"
      },
      "execution_count": null,
      "outputs": [
        {
          "output_type": "stream",
          "name": "stdout",
          "text": [
            "[[[[[  1   2   3]\n",
            "    [ 11  22  33]\n",
            "    [111 222 333]]]]]\n",
            "5\n"
          ]
        }
      ]
    },
    {
      "cell_type": "code",
      "source": [
        "#ravel function\n",
        "pt=ap.ravel()\n",
        "print(pt)\n",
        "print(pt.ndim)\n",
        "print(pt[0:2])\n",
        "print(pt.dtype)\n"
      ],
      "metadata": {
        "colab": {
          "base_uri": "https://localhost:8080/"
        },
        "id": "4rTZF7HXiRnW",
        "outputId": "22b7552c-9213-4d07-a221-35f30ea2d0d8"
      },
      "execution_count": null,
      "outputs": [
        {
          "output_type": "stream",
          "name": "stdout",
          "text": [
            "[  1   2   3  11  22  33 111 222 333]\n",
            "1\n",
            "[1 2]\n",
            "int64\n"
          ]
        }
      ]
    },
    {
      "cell_type": "code",
      "source": [
        "#flatten function\n",
        "ptt=ap.flatten()\n",
        "print(ptt)\n",
        "print(ptt.ndim)\n",
        "print(ptt[0:3])\n",
        "print(ptt.dtype)"
      ],
      "metadata": {
        "colab": {
          "base_uri": "https://localhost:8080/"
        },
        "id": "THde6U0GicQL",
        "outputId": "3068892a-bb8a-4702-ed53-86acae2f1d78"
      },
      "execution_count": null,
      "outputs": [
        {
          "output_type": "stream",
          "name": "stdout",
          "text": [
            "[  1   2   3  11  22  33 111 222 333]\n",
            "1\n",
            "[1 2 3]\n",
            "int64\n"
          ]
        }
      ]
    },
    {
      "cell_type": "code",
      "source": [
        "#unique function\n",
        "nn=np.array([22,3,1,34,9,2,1,33,22,6,43,5,2,34,9,1,2,3,6,43,2,3,3,4,5,4,3,77,54,34,42,55])\n",
        "x=np.unique(nn, return_index=True,return_counts=True,)\n",
        "print(x)"
      ],
      "metadata": {
        "colab": {
          "base_uri": "https://localhost:8080/"
        },
        "id": "VnOlVhR5jGDY",
        "outputId": "d62e6b93-7e59-45f9-f120-eaa8978b6453"
      },
      "execution_count": null,
      "outputs": [
        {
          "output_type": "stream",
          "name": "stdout",
          "text": [
            "(array([ 1,  2,  3,  4,  5,  6,  9, 22, 33, 34, 42, 43, 54, 55, 77]), array([ 2,  5,  1, 23, 11,  9,  4,  0,  7,  3, 30, 10, 28, 31, 27]), array([3, 4, 5, 2, 2, 2, 2, 2, 1, 3, 1, 2, 1, 1, 1]))\n"
          ]
        }
      ]
    },
    {
      "cell_type": "code",
      "source": [
        "xp=np.unique(nn,return_inverse=True)\n",
        "print(xp)"
      ],
      "metadata": {
        "colab": {
          "base_uri": "https://localhost:8080/"
        },
        "id": "Qje36nG9lQke",
        "outputId": "c612bc1a-e007-4662-a549-7b584386fc85"
      },
      "execution_count": null,
      "outputs": [
        {
          "output_type": "stream",
          "name": "stdout",
          "text": [
            "(array([ 1,  2,  3,  4,  5,  6,  9, 22, 33, 34, 42, 43, 54, 55, 77]), array([ 7,  2,  0,  9,  6,  1,  0,  8,  7,  5, 11,  4,  1,  9,  6,  0,  1,\n",
            "        2,  5, 11,  1,  2,  2,  3,  4,  3,  2, 14, 12,  9, 10, 13]))\n"
          ]
        }
      ]
    },
    {
      "cell_type": "code",
      "source": [
        "#delete function\n",
        "arp1=np.array([[1,2,3],[4,5,6],[7,8,9]])\n",
        "print(arp1)\n",
        "dd=np.delete(arp1,1,axis=0)\n",
        "print()\n",
        "print(dd)"
      ],
      "metadata": {
        "colab": {
          "base_uri": "https://localhost:8080/"
        },
        "id": "NlzoRwdfltNC",
        "outputId": "0b615bf7-25aa-48a0-e99f-3335cbe97b29"
      },
      "execution_count": null,
      "outputs": [
        {
          "output_type": "stream",
          "name": "stdout",
          "text": [
            "[[1 2 3]\n",
            " [4 5 6]\n",
            " [7 8 9]]\n",
            "\n",
            "[[1 2 3]\n",
            " [7 8 9]]\n"
          ]
        }
      ]
    },
    {
      "cell_type": "code",
      "source": [],
      "metadata": {
        "id": "Ixswe6eMmjqy"
      },
      "execution_count": null,
      "outputs": []
    }
  ]
}